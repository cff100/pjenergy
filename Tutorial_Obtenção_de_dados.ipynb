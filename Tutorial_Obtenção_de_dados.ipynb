{
  "nbformat": 4,
  "nbformat_minor": 0,
  "metadata": {
    "colab": {
      "provenance": [],
      "authorship_tag": "ABX9TyMQ8Adq96GepAFHWmbZqTcK",
      "include_colab_link": true
    },
    "kernelspec": {
      "name": "python3",
      "display_name": "Python 3"
    },
    "language_info": {
      "name": "python"
    }
  },
  "cells": [
    {
      "cell_type": "markdown",
      "metadata": {
        "id": "view-in-github",
        "colab_type": "text"
      },
      "source": [
        "<a href=\"https://colab.research.google.com/github/cff100/pjenergy/blob/main/Tutorial_Obten%C3%A7%C3%A3o_de_dados.ipynb\" target=\"_parent\"><img src=\"https://colab.research.google.com/assets/colab-badge.svg\" alt=\"Open In Colab\"/></a>"
      ]
    },
    {
      "cell_type": "code",
      "execution_count": null,
      "metadata": {
        "id": "QTvPlfc_KNPb"
      },
      "outputs": [],
      "source": [
        "!pip install cdsapi # Instalar a biblioteca cdsapi, para ser capaz de acessar o Climate Data Store"
      ]
    },
    {
      "cell_type": "code",
      "source": [
        "import cdsapi # Importar a biblioteca, para poder usá-la"
      ],
      "metadata": {
        "id": "VGTOxanmLWDN"
      },
      "execution_count": null,
      "outputs": []
    },
    {
      "cell_type": "code",
      "source": [
        "from datetime import datetime, timedelta\n",
        "\n",
        "# Função para converter horário de Brasília para UTC\n",
        "def brasilia_para_utc(horario_brasilia):\n",
        "    brasilia_time = datetime.strptime(horario_brasilia, '%H:%M')\n",
        "    utc_time = brasilia_time + timedelta(hours=3)\n",
        "    return utc_time.strftime('%H:%M')\n",
        "\n",
        "# Medidas de tempo\n",
        "horas = ['03:00', '09:00', '15:00', '21:00']\n",
        "horas_utc = [brasilia_para_utc(h) for h in horas]\n",
        "\n",
        "\n",
        "meses = [str(mes) for mes in range(1, 13)]\n",
        "dias = [str(dia) for dia in range(1, 32)]\n",
        "anos = [str(ano) for ano in range(2023, 2024)]\n",
        "\n",
        "#------------------------------------------------------------------------\n",
        "\n",
        "# Níveis de pressão em KPa\n",
        "niveis_pressao = [90.0, 92.5, 95.0, 97.5, 100.0]\n",
        "# Níveis de pressão em hPa\n",
        "niveis_pressao_hpa = [p * 10 for p in niveis_pressao]\n",
        "\n",
        "#------------------------------------------------------------------------\n",
        "\n",
        "#Área buscada\n",
        "norte = -21\n",
        "sul = -24\n",
        "oeste = -42\n",
        "leste = -39\n",
        "\n",
        "area = [norte, oeste, sul, leste]"
      ],
      "metadata": {
        "id": "R0HgWhlSMA6q"
      },
      "execution_count": null,
      "outputs": []
    },
    {
      "cell_type": "code",
      "source": [
        "# Inicializa a API do CDS\n",
        "c = cdsapi.Client(url='https://cds.climate.copernicus.eu/api', key='89647e12-cf97-495d-a31b-3c325c5fd352')\n",
        "\n",
        "# Nome do arquivo NetCDF\n",
        "nc_filename = f'Era5_Vento_e_Temperatura_CAMPOS.nc'\n",
        "\n",
        "# Requisição dos dados\n",
        "dataset = 'reanalysis-era5-pressure-levels'\n",
        "\n",
        "request = {\n",
        "'product_type': ['reanalysis'],\n",
        "'variable': ['temperature', 'u_component_of_wind', 'v_component_of_wind'],\n",
        "'year': anos,\n",
        "'month': meses,\n",
        "'day': dias,\n",
        "'time': horas_utc,\n",
        "'area': area,  # Coordenadas da Bacia de Campos\n",
        "'pressure_level': niveis_pressao_hpa,\n",
        "'data_format': 'netcdf',\n",
        "'download_format': 'unarchived'\n",
        "}\n",
        "\n",
        "c.retrieve(dataset, request, nc_filename)"
      ],
      "metadata": {
        "id": "NXX572ecMXJs"
      },
      "execution_count": null,
      "outputs": []
    }
  ]
}