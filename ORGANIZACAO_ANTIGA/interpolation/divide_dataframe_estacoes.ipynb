{
  "nbformat": 4,
  "nbformat_minor": 0,
  "metadata": {
    "colab": {
      "provenance": [],
      "authorship_tag": "ABX9TyPhwgnVZKO7et/ftFhsq/hj",
      "include_colab_link": true
    },
    "kernelspec": {
      "name": "python3",
      "display_name": "Python 3"
    },
    "language_info": {
      "name": "python"
    }
  },
  "cells": [
    {
      "cell_type": "markdown",
      "metadata": {
        "id": "view-in-github",
        "colab_type": "text"
      },
      "source": [
        "<a href=\"https://colab.research.google.com/github/cff100/pjenergy/blob/main/src/interpolacao/divide_dataframe_estacoes.ipynb\" target=\"_parent\"><img src=\"https://colab.research.google.com/assets/colab-badge.svg\" alt=\"Open In Colab\"/></a>"
      ]
    },
    {
      "cell_type": "code",
      "source": [
        "''' INFO\n",
        "Divide o dataframe de dados interpolados em 4 dataframes,\n",
        "um para cada estação do ano. Isso foi feito para atender\n",
        "o limite do GitHub de tamanho de arquivos.\n",
        "\n",
        "*Esse código não faz parte da lógica principal de códigos\n",
        "(não é importado em nenhum lugar).*\n",
        "'''"
      ],
      "metadata": {
        "id": "Ks058hpMtmU_",
        "colab": {
          "base_uri": "https://localhost:8080/",
          "height": 53
        },
        "outputId": "5345c6d7-7fad-4184-fb29-47fb3621f86e"
      },
      "execution_count": 1,
      "outputs": [
        {
          "output_type": "execute_result",
          "data": {
            "text/plain": [
              "' INFO\\nDivide o dataframe de dados interpolados em 4 dataframes,\\num para cada estação do ano. Isso foi feito para atender\\no limite do GitHub de tamanho de arquivos.\\n\\n*Esse código não faz parte da lógica principal de códigos\\n(não é importado em nenhum lugar).*\\n'"
            ],
            "application/vnd.google.colaboratory.intrinsic+json": {
              "type": "string"
            }
          },
          "metadata": {},
          "execution_count": 1
        }
      ]
    },
    {
      "cell_type": "code",
      "source": [
        "import pandas as pd"
      ],
      "metadata": {
        "id": "jhJY9D7uN_BL"
      },
      "execution_count": 2,
      "outputs": []
    },
    {
      "cell_type": "code",
      "execution_count": 3,
      "metadata": {
        "id": "10U-7OLFN0ZK"
      },
      "outputs": [],
      "source": [
        "df = pd.read_csv(f'/content/df_interpolado.csv', index_col=0)"
      ]
    },
    {
      "cell_type": "code",
      "source": [
        "df_verao = df[df['Estação_do_Ano'] == 'Verão']\n",
        "df_outono = df[df['Estação_do_Ano'] == 'Outono']\n",
        "df_inverno = df[df['Estação_do_Ano'] == 'Inverno']\n",
        "df_primavera = df[df['Estação_do_Ano'] == 'Primavera']\n",
        "\n",
        "df_verao.to_csv('df_interpolado_Verao.csv')\n",
        "df_outono.to_csv('df_interpolado_Outono.csv')\n",
        "df_inverno.to_csv('df_interpolado_Inverno.csv')\n",
        "df_primavera.to_csv('df_interpolado_Primavera.csv')\n"
      ],
      "metadata": {
        "id": "yJdG9R2aOB5q"
      },
      "execution_count": 4,
      "outputs": []
    }
  ]
}