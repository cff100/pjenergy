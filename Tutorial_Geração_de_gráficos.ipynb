{
  "nbformat": 4,
  "nbformat_minor": 0,
  "metadata": {
    "colab": {
      "provenance": [],
      "authorship_tag": "ABX9TyNUQeff38ESXW/Q6h5+R98k",
      "include_colab_link": true
    },
    "kernelspec": {
      "name": "python3",
      "display_name": "Python 3"
    },
    "language_info": {
      "name": "python"
    }
  },
  "cells": [
    {
      "cell_type": "markdown",
      "metadata": {
        "id": "view-in-github",
        "colab_type": "text"
      },
      "source": [
        "<a href=\"https://colab.research.google.com/github/cff100/pjenergy/blob/main/Tutorial_Gera%C3%A7%C3%A3o_de_gr%C3%A1ficos.ipynb\" target=\"_parent\"><img src=\"https://colab.research.google.com/assets/colab-badge.svg\" alt=\"Open In Colab\"/></a>"
      ]
    },
    {
      "cell_type": "code",
      "source": [
        "# Copia o repositório\n",
        "\n",
        "!git clone https://github.com/cff100/pjenergy\n",
        "%cd pjenergy"
      ],
      "metadata": {
        "id": "q5CU5BeDYKXN"
      },
      "execution_count": null,
      "outputs": []
    },
    {
      "cell_type": "code",
      "source": [
        "import pjenergy.main as mp"
      ],
      "metadata": {
        "id": "t2xTGb9GOf8C"
      },
      "execution_count": null,
      "outputs": []
    },
    {
      "cell_type": "code",
      "source": [
        "# Gráfico de linhas - Perfis\n",
        "\n",
        "mp.graf()"
      ],
      "metadata": {
        "id": "fwKBCa5NyvJD"
      },
      "execution_count": null,
      "outputs": []
    },
    {
      "cell_type": "markdown",
      "source": [
        "### Para ver a outra forma possível de se utilizar as funções"
      ],
      "metadata": {
        "id": "xxk5iNfLhLBi"
      }
    },
    {
      "cell_type": "code",
      "source": [
        "help(mp.graf)"
      ],
      "metadata": {
        "id": "YhG6BH03BFGl"
      },
      "execution_count": null,
      "outputs": []
    },
    {
      "cell_type": "code",
      "source": [
        "help(mp.prob)"
      ],
      "metadata": {
        "id": "rcgODqjKhXHS"
      },
      "execution_count": null,
      "outputs": []
    },
    {
      "cell_type": "code",
      "source": [
        "help(mp.pot)"
      ],
      "metadata": {
        "id": "Qxo_sGgOhZTy"
      },
      "execution_count": null,
      "outputs": []
    }
  ]
}